{
 "cells": [
  {
   "cell_type": "code",
   "execution_count": 3,
   "metadata": {},
   "outputs": [
    {
     "name": "stdout",
     "output_type": "stream",
     "text": [
      "MMM\n",
      "https://www.alphavantage.co/query?function=TIME_SERIES_DAILY_ADJUSTED&symbol=MMM&outputsize=full&apikey=ZJOZCVCA9DRZ9BL\n",
      "AOS\n",
      "https://www.alphavantage.co/query?function=TIME_SERIES_DAILY_ADJUSTED&symbol=AOS&outputsize=full&apikey=ZJOZCVCA9DRZ9BL\n",
      "ABT\n",
      "https://www.alphavantage.co/query?function=TIME_SERIES_DAILY_ADJUSTED&symbol=ABT&outputsize=full&apikey=ZJOZCVCA9DRZ9BL\n",
      "ABBV\n",
      "https://www.alphavantage.co/query?function=TIME_SERIES_DAILY_ADJUSTED&symbol=ABBV&outputsize=full&apikey=ZJOZCVCA9DRZ9BL\n",
      "ABMD\n",
      "https://www.alphavantage.co/query?function=TIME_SERIES_DAILY_ADJUSTED&symbol=ABMD&outputsize=full&apikey=ZJOZCVCA9DRZ9BL\n",
      "ACN\n",
      "https://www.alphavantage.co/query?function=TIME_SERIES_DAILY_ADJUSTED&symbol=ACN&outputsize=full&apikey=ZJOZCVCA9DRZ9BL\n"
     ]
    }
   ],
   "source": [
    "import pandas as pd\n",
    "import json\n",
    "import requests\n",
    "import time\n",
    "\n",
    "API_key = 'ZJOZCVCA9DRZ9BL'\n",
    "\n",
    "sp500 = pd.read_csv(\"s500_test.csv\")\n",
    "\n",
    "for index, row in sp500.iterrows():\n",
    "    print(row['Symbol'])\n",
    "    url = \"https://www.alphavantage.co/query?function=TIME_SERIES_DAILY_ADJUSTED&symbol={symbol}&outputsize=full&apikey={key}\"\n",
    "    url = url.format(symbol = row['Symbol'], key = API_key)\n",
    "    print(url)\n",
    "    comp = pd.read_json(url)\n",
    "    time.sleep(10)\n",
    "    "
   ]
  },
  {
   "cell_type": "code",
   "execution_count": 7,
   "metadata": {},
   "outputs": [],
   "source": [
    "sp500 = comp.to_csv(\"s500_pred.csv\")"
   ]
  },
  {
   "cell_type": "code",
   "execution_count": null,
   "metadata": {},
   "outputs": [],
   "source": []
  }
 ],
 "metadata": {
  "kernelspec": {
   "display_name": "Python 3",
   "language": "python",
   "name": "python3"
  },
  "language_info": {
   "codemirror_mode": {
    "name": "ipython",
    "version": 3
   },
   "file_extension": ".py",
   "mimetype": "text/x-python",
   "name": "python",
   "nbconvert_exporter": "python",
   "pygments_lexer": "ipython3",
   "version": "3.7.6"
  }
 },
 "nbformat": 4,
 "nbformat_minor": 4
}
