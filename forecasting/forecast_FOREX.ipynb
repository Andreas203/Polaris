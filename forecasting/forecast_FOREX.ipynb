{
 "cells": [
  {
   "cell_type": "code",
   "execution_count": 1,
   "metadata": {},
   "outputs": [
    {
     "name": "stdout",
     "output_type": "stream",
     "text": [
      "USD\n",
      "EUR\n",
      "USD\n",
      "GBP\n",
      "GBP\n",
      "EUR\n",
      "               open     high      low    close\n",
      "2021-04-19  1.15435  1.16414  1.15300  1.16171\n",
      "2021-04-16  1.15150  1.15528  1.14650  1.15380\n",
      "2021-04-15  1.14973  1.15327  1.14930  1.15150\n",
      "2021-04-14  1.15066  1.15344  1.14920  1.14978\n",
      "2021-04-13  1.15314  1.15729  1.14780  1.15076\n",
      "...             ...      ...      ...      ...\n",
      "2002-02-22  1.63920  1.64090  1.62880  1.63510\n",
      "2002-02-21  1.64010  1.64200  1.63360  1.63900\n",
      "2002-02-20  1.63350  1.64070  1.62930  1.64030\n",
      "2002-02-19  1.64010  1.64220  1.62880  1.63360\n",
      "2002-02-18  1.63880  1.64240  1.63770  1.63990\n",
      "\n",
      "[5000 rows x 4 columns]\n"
     ]
    }
   ],
   "source": [
    "import pandas as pd\n",
    "import urllib.request, json \n",
    "import time\n",
    "\n",
    "API_key = 'ZJOZCVCA9DRZ9BL'\n",
    "\n",
    "currencies = ['USD', 'EUR', 'GBP']\n",
    "headers = ['open','high','low','close']\n",
    "\n",
    "for i in range(0,len(currencies)):\n",
    "    for j in range(1,len(currencies)):\n",
    "        if(currencies[i] == currencies[j]):\n",
    "            break\n",
    "        print(currencies[i])\n",
    "        print(currencies[j])\n",
    "        url = \"https://www.alphavantage.co/query?function=FX_DAILY&from_symbol={currency1}&to_symbol={currency2}&outputsize=full&apikey={key}\"\n",
    "        url = url.format(currency1 = currencies[i], currency2 = currencies[j],  key = API_key)\n",
    "        \n",
    "        # symb_name = \"{symbol}.csv\"\n",
    "        # symb_name = symb_name.format(symbol = row['Symbol'])\n",
    "        \n",
    "        with urllib.request.urlopen(url) as news:\n",
    "            data = json.loads(news.read().decode())\n",
    "        data = data['Time Series FX (Daily)']\n",
    "        data = pd.DataFrame(data)\n",
    "        data = data.T\n",
    "        data.columns = headers\n",
    "        \n",
    "        #data['date'] = data.index\n",
    "        #print(data)\n",
    "        #data.to_csv(symb_name)\n",
    "        time.sleep(10)\n",
    "print(data)"
   ]
  },
  {
   "cell_type": "code",
   "execution_count": 3,
   "metadata": {},
   "outputs": [
    {
     "name": "stdout",
     "output_type": "stream",
     "text": [
      "3000\n",
      "1000\n",
      "1000\n"
     ]
    }
   ],
   "source": [
    "labels = data.shift(-1)\n",
    "X = (data.values)[::-1]\n",
    "Y = (labels.values)[::-1]\n",
    "X_tr = X[:3000,0]\n",
    "Y_tr = Y[:3000,0]\n",
    "X_val = X[3000:4000,0]\n",
    "Y_val = Y[3000:4000,0]\n",
    "X_tst = X[4000:,0]\n",
    "Y_tst = Y[4000:,0]\n",
    "print(X_tr.shape[0])\n",
    "print(X_val.size)\n",
    "print(X_tst.size)"
   ]
  },
  {
   "cell_type": "code",
   "execution_count": 4,
   "metadata": {},
   "outputs": [
    {
     "name": "stderr",
     "output_type": "stream",
     "text": [
      "Using TensorFlow backend.\n"
     ]
    }
   ],
   "source": [
    "from numpy import array\n",
    "from keras.models import Sequential\n",
    "from keras.layers import LSTM\n",
    "from keras.layers import Dense"
   ]
  },
  {
   "cell_type": "code",
   "execution_count": 8,
   "metadata": {},
   "outputs": [
    {
     "name": "stdout",
     "output_type": "stream",
     "text": [
      "[[nan]\n",
      " [nan]\n",
      " [nan]\n",
      " ...\n",
      " [nan]\n",
      " [nan]\n",
      " [nan]]\n"
     ]
    }
   ],
   "source": [
    "# reshape from [samples, timesteps] into [samples, timesteps, features]\n",
    "X_tr = X_tr.reshape((X_tr.shape[0],1,1))\n",
    "X_val = X_val.reshape((X_val.shape[0],1,1))\n",
    "\n",
    "# define model\n",
    "model = Sequential()\n",
    "model.add(LSTM(50, activation='relu', return_sequences=True, input_shape=(1, 1)))\n",
    "model.add(LSTM(50, activation='relu'))\n",
    "model.add(Dense(1))\n",
    "model.compile(optimizer='adam', loss='mse')\n",
    "\n",
    "# fit model\n",
    "model.fit(X_tr, Y_tr, epochs=200, verbose=0,validation_data=(X_val, Y_val))\n",
    "# demonstrate prediction\n",
    "\n",
    "yhat = model.predict(X_tr, verbose=0)\n",
    "print(yhat)"
   ]
  },
  {
   "cell_type": "code",
   "execution_count": 60,
   "metadata": {},
   "outputs": [
    {
     "name": "stdout",
     "output_type": "stream",
     "text": [
      "(3000, 1)\n"
     ]
    }
   ],
   "source": [
    "print(yhat.shape)"
   ]
  },
  {
   "cell_type": "code",
   "execution_count": 15,
   "metadata": {},
   "outputs": [
    {
     "ename": "IndexError",
     "evalue": "too many indices for array",
     "output_type": "error",
     "traceback": [
      "\u001b[1;31m---------------------------------------------------------------------------\u001b[0m",
      "\u001b[1;31mIndexError\u001b[0m                                Traceback (most recent call last)",
      "\u001b[1;32m<ipython-input-15-df083d997997>\u001b[0m in \u001b[0;36m<module>\u001b[1;34m\u001b[0m\n\u001b[0;32m      9\u001b[0m \u001b[1;32mfor\u001b[0m \u001b[0mgroup\u001b[0m \u001b[1;32min\u001b[0m \u001b[0mgroups\u001b[0m\u001b[1;33m:\u001b[0m\u001b[1;33m\u001b[0m\u001b[1;33m\u001b[0m\u001b[0m\n\u001b[0;32m     10\u001b[0m         \u001b[0mpyplot\u001b[0m\u001b[1;33m.\u001b[0m\u001b[0msubplot\u001b[0m\u001b[1;33m(\u001b[0m\u001b[0mlen\u001b[0m\u001b[1;33m(\u001b[0m\u001b[0mgroups\u001b[0m\u001b[1;33m)\u001b[0m\u001b[1;33m,\u001b[0m \u001b[1;36m1\u001b[0m\u001b[1;33m,\u001b[0m \u001b[0mi\u001b[0m\u001b[1;33m)\u001b[0m\u001b[1;33m\u001b[0m\u001b[1;33m\u001b[0m\u001b[0m\n\u001b[1;32m---> 11\u001b[1;33m         \u001b[0mpyplot\u001b[0m\u001b[1;33m.\u001b[0m\u001b[0mplot\u001b[0m\u001b[1;33m(\u001b[0m\u001b[0mvalues\u001b[0m\u001b[1;33m[\u001b[0m\u001b[1;33m:\u001b[0m\u001b[1;33m,\u001b[0m \u001b[1;36m0\u001b[0m\u001b[1;33m]\u001b[0m\u001b[1;33m)\u001b[0m\u001b[1;33m\u001b[0m\u001b[1;33m\u001b[0m\u001b[0m\n\u001b[0m\u001b[0;32m     12\u001b[0m         \u001b[0mpyplot\u001b[0m\u001b[1;33m.\u001b[0m\u001b[0mtitle\u001b[0m\u001b[1;33m(\u001b[0m\u001b[0mdata\u001b[0m\u001b[1;33m.\u001b[0m\u001b[0mcolumns\u001b[0m\u001b[1;33m[\u001b[0m\u001b[0mgroup\u001b[0m\u001b[1;33m]\u001b[0m\u001b[1;33m,\u001b[0m \u001b[0my\u001b[0m\u001b[1;33m=\u001b[0m\u001b[1;36m0.5\u001b[0m\u001b[1;33m,\u001b[0m \u001b[0mloc\u001b[0m\u001b[1;33m=\u001b[0m\u001b[1;34m'right'\u001b[0m\u001b[1;33m)\u001b[0m\u001b[1;33m\u001b[0m\u001b[1;33m\u001b[0m\u001b[0m\n\u001b[0;32m     13\u001b[0m         \u001b[0mi\u001b[0m \u001b[1;33m+=\u001b[0m \u001b[1;36m1\u001b[0m\u001b[1;33m\u001b[0m\u001b[1;33m\u001b[0m\u001b[0m\n",
      "\u001b[1;31mIndexError\u001b[0m: too many indices for array"
     ]
    },
    {
     "data": {
      "image/png": "[encoded data removed]",
      "text/plain": [
       "<Figure size 432x288 with 1 Axes>"
      ]
     },
     "metadata": {
      "needs_background": "light"
     },
     "output_type": "display_data"
    }
   ],
   "source": [
    "from matplotlib import pyplot\n",
    "# load dataset\n",
    "values = X_tr\n",
    "# specify columns to plot\n",
    "groups = [0, 1]\n",
    "i = 1\n",
    "# plot each column\n",
    "pyplot.figure()\n",
    "for group in groups:\n",
    "\tpyplot.subplot(len(groups), 1, i)\n",
    "\tpyplot.plot(values[:, 0])\n",
    "\tpyplot.title(data.columns[group], y=0.5, loc='right')\n",
    "\ti += 1\n",
    "pyplot.show()"
   ]
  },
  {
   "cell_type": "code",
   "execution_count": null,
   "metadata": {},
   "outputs": [],
   "source": []
  }
 ],
 "metadata": {
  "kernelspec": {
   "display_name": "Python 3",
   "language": "python",
   "name": "python3"
  },
  "language_info": {
   "codemirror_mode": {
    "name": "ipython",
    "version": 3
   },
   "file_extension": ".py",
   "mimetype": "text/x-python",
   "name": "python",
   "nbconvert_exporter": "python",
   "pygments_lexer": "ipython3",
   "version": "3.7.6"
  }
 },
 "nbformat": 4,
 "nbformat_minor": 4
}