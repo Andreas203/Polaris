{
 "cells": [
  {
   "cell_type": "code",
   "execution_count": 1,
   "metadata": {},
   "outputs": [
    {
     "name": "stdout",
     "output_type": "stream",
     "text": [
      "MMM\n",
      "https://www.alphavantage.co/query?function=TIME_SERIES_DAILY_ADJUSTED&symbol=MMM&outputsize=full&apikey=ZJOZCVCA9DRZ9BL\n",
      "Meta Data              2021-01-06\n",
      "Time Series (Daily)           NaN\n",
      "Name: 3. Last Refreshed, dtype: object\n",
      "AOS\n",
      "https://www.alphavantage.co/query?function=TIME_SERIES_DAILY_ADJUSTED&symbol=AOS&outputsize=full&apikey=ZJOZCVCA9DRZ9BL\n",
      "Meta Data              2021-01-06\n",
      "Time Series (Daily)           NaN\n",
      "Name: 3. Last Refreshed, dtype: object\n",
      "ABT\n",
      "https://www.alphavantage.co/query?function=TIME_SERIES_DAILY_ADJUSTED&symbol=ABT&outputsize=full&apikey=ZJOZCVCA9DRZ9BL\n",
      "Meta Data              2021-01-06\n",
      "Time Series (Daily)           NaN\n",
      "Name: 3. Last Refreshed, dtype: object\n"
     ]
    },
    {
     "ename": "KeyboardInterrupt",
     "evalue": "",
     "output_type": "error",
     "traceback": [
      "\u001b[1;31m---------------------------------------------------------------------------\u001b[0m",
      "\u001b[1;31mKeyboardInterrupt\u001b[0m                         Traceback (most recent call last)",
      "\u001b[1;32m<ipython-input-1-88c87c685f61>\u001b[0m in \u001b[0;36m<module>\u001b[1;34m\u001b[0m\n\u001b[0;32m     27\u001b[0m     \u001b[0mcomp\u001b[0m\u001b[1;33m.\u001b[0m\u001b[0mto_csv\u001b[0m\u001b[1;33m(\u001b[0m\u001b[0msymb_name\u001b[0m\u001b[1;33m)\u001b[0m\u001b[1;33m\u001b[0m\u001b[1;33m\u001b[0m\u001b[0m\n\u001b[0;32m     28\u001b[0m \u001b[1;33m\u001b[0m\u001b[0m\n\u001b[1;32m---> 29\u001b[1;33m     \u001b[0mtime\u001b[0m\u001b[1;33m.\u001b[0m\u001b[0msleep\u001b[0m\u001b[1;33m(\u001b[0m\u001b[1;36m10\u001b[0m\u001b[1;33m)\u001b[0m\u001b[1;33m\u001b[0m\u001b[1;33m\u001b[0m\u001b[0m\n\u001b[0m\u001b[0;32m     30\u001b[0m \u001b[1;33m\u001b[0m\u001b[0m\n",
      "\u001b[1;31mKeyboardInterrupt\u001b[0m: "
     ]
    }
   ],
   "source": [
    "import pandas as pd\n",
    "import json\n",
    "import requests\n",
    "import time\n",
    "\n",
    "API_key = 'ZJOZCVCA9DRZ9BL'\n",
    "\n",
    "sp500 = pd.read_csv(\"s500_test.csv\")\n",
    "#headers = ['Date','Data']\n",
    "\n",
    "for index, row in sp500.iterrows():\n",
    "    print(row['Symbol'])\n",
    "    url = \"https://www.alphavantage.co/query?function=TIME_SERIES_DAILY_ADJUSTED&symbol={symbol}&outputsize=full&apikey={key}\"\n",
    "    url = url.format(symbol = row['Symbol'], key = API_key)\n",
    "    print(url)\n",
    "    symb_name = \"{symbol}.csv\"\n",
    "    symb_name = symb_name.format(symbol = row['Symbol'])\n",
    "    comp = pd.read_json(url)[5:]\n",
    "    #print(comp)\n",
    "    comp = comp.dropna(axis=1,how='any')\n",
    "    comp.columns = ['Data']\n",
    "    #print(comp['Data'])\n",
    "    \n",
    "    comp.to_csv(symb_name)\n",
    "    \n",
    "    time.sleep(10)\n",
    "    "
   ]
  },
  {
   "cell_type": "code",
   "execution_count": null,
   "metadata": {},
   "outputs": [],
   "source": []
  },
  {
   "cell_type": "code",
   "execution_count": null,
   "metadata": {},
   "outputs": [],
   "source": []
  }
 ],
 "metadata": {
  "kernelspec": {
   "display_name": "Python 3",
   "language": "python",
   "name": "python3"
  },
  "language_info": {
   "codemirror_mode": {
    "name": "ipython",
    "version": 3
   },
   "file_extension": ".py",
   "mimetype": "text/x-python",
   "name": "python",
   "nbconvert_exporter": "python",
   "pygments_lexer": "ipython3",
   "version": "3.7.6"
  }
 },
 "nbformat": 4,
 "nbformat_minor": 4
}
